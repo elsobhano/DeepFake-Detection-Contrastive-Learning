{
 "cells": [
  {
   "cell_type": "code",
   "execution_count": 9,
   "id": "c4d1ea8c",
   "metadata": {},
   "outputs": [],
   "source": [
    "import torch\n",
    "import pandas as pd\n",
    "import os\n",
    "import random"
   ]
  },
  {
   "cell_type": "code",
   "execution_count": 11,
   "id": "aec12ff5",
   "metadata": {},
   "outputs": [
    {
     "ename": "TypeError",
     "evalue": "sample() takes 3 positional arguments but 4 were given",
     "output_type": "error",
     "traceback": [
      "\u001b[1;31m---------------------------------------------------------------------------\u001b[0m",
      "\u001b[1;31mTypeError\u001b[0m                                 Traceback (most recent call last)",
      "Cell \u001b[1;32mIn [11], line 12\u001b[0m\n\u001b[0;32m     10\u001b[0m forge \u001b[38;5;241m=\u001b[39m random\u001b[38;5;241m.\u001b[39msample(forg_types, \u001b[38;5;241m1\u001b[39m)[\u001b[38;5;241m0\u001b[39m]\n\u001b[0;32m     11\u001b[0m pic_adds\u001b[38;5;241m.\u001b[39mappend(os\u001b[38;5;241m.\u001b[39mpath\u001b[38;5;241m.\u001b[39mjoin(fake_add,forge,fold, \u001b[38;5;28mstr\u001b[39m(rnd)\u001b[38;5;241m+\u001b[39m\u001b[38;5;124m'\u001b[39m\u001b[38;5;124mjpg\u001b[39m\u001b[38;5;124m'\u001b[39m))\n\u001b[1;32m---> 12\u001b[0m imp_idx \u001b[38;5;241m=\u001b[39m \u001b[43mrandom\u001b[49m\u001b[38;5;241;43m.\u001b[39;49m\u001b[43msample\u001b[49m\u001b[43m(\u001b[49m\u001b[38;5;28;43mlist\u001b[39;49m\u001b[43m(\u001b[49m\u001b[38;5;28;43mrange\u001b[39;49m\u001b[43m(\u001b[49m\u001b[38;5;241;43m0\u001b[39;49m\u001b[43m,\u001b[49m\u001b[38;5;28;43mlen\u001b[39;49m\u001b[43m(\u001b[49m\u001b[43madd_csv\u001b[49m\u001b[43m[\u001b[49m\u001b[38;5;124;43m'\u001b[39;49m\u001b[38;5;124;43mAdd\u001b[39;49m\u001b[38;5;124;43m'\u001b[39;49m\u001b[43m]\u001b[49m\u001b[43m)\u001b[49m\u001b[43m \u001b[49m\u001b[38;5;241;43m+\u001b[39;49m\u001b[43m \u001b[49m\u001b[38;5;241;43m1\u001b[39;49m\u001b[43m)\u001b[49m\u001b[43m)\u001b[49m\u001b[43m,\u001b[49m\u001b[43m \u001b[49m\u001b[38;5;241;43m1\u001b[39;49m\u001b[43m,\u001b[49m\u001b[43m \u001b[49m\u001b[38;5;241;43m4\u001b[39;49m\u001b[43m)\u001b[49m[\u001b[38;5;241m0\u001b[39m]\n\u001b[0;32m     13\u001b[0m add_csv[\u001b[38;5;124m'\u001b[39m\u001b[38;5;124mAdd\u001b[39m\u001b[38;5;124m'\u001b[39m][imp_idx:imp_idx] \u001b[38;5;241m=\u001b[39m pic_adds\n\u001b[0;32m     14\u001b[0m \u001b[38;5;28mprint\u001b[39m(add_csv)\n",
      "\u001b[1;31mTypeError\u001b[0m: sample() takes 3 positional arguments but 4 were given"
     ]
    }
   ],
   "source": [
    "fake_add = './Dataset/c23'\n",
    "origin_add = './Dataset/c23/original'\n",
    "forg_types = ['Deepfakes','Face2Face','FaceSwap','NeuralTexture']\n",
    "add_csv = {'Add':[]}\n",
    "for fold in os.listdir(origin_add):\n",
    "    rnd_idx = random.sample(list(range(0,30)),3)\n",
    "    for rnd in rnd_idx:\n",
    "        add = os.path.join(origin_add, fold, str(rnd)+'.jpg')\n",
    "        pic_adds = [add]*3\n",
    "        forge = random.sample(forg_types, 1)[0]\n",
    "        pic_adds.append(os.path.join(fake_add,forge,fold, str(rnd)+'jpg'))\n",
    "        imp_idx = random.sample(list(range(0,len(add_csv['Add'])+1 , 4)),1)[0]\n",
    "        add_csv['Add'][imp_idx:imp_idx] = pic_adds\n",
    "        print(add_csv)\n",
    "\n",
    "        \n",
    "\n",
    "    \n",
    "\n"
   ]
  }
 ],
 "metadata": {
  "interpreter": {
   "hash": "1e5a891f349e85f1bddd1318824d5ad5dd82a6576299774c2e8bdc98971d8e1d"
  },
  "kernelspec": {
   "display_name": "Python 3.9.0 64-bit",
   "language": "python",
   "name": "python3"
  },
  "language_info": {
   "codemirror_mode": {
    "name": "ipython",
    "version": 3
   },
   "file_extension": ".py",
   "mimetype": "text/x-python",
   "name": "python",
   "nbconvert_exporter": "python",
   "pygments_lexer": "ipython3",
   "version": "3.9.0"
  }
 },
 "nbformat": 4,
 "nbformat_minor": 5
}
